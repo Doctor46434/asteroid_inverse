{
 "cells": [
  {
   "cell_type": "code",
   "execution_count": 6,
   "metadata": {},
   "outputs": [
    {
     "name": "stdout",
     "output_type": "stream",
     "text": [
      "3\n"
     ]
    },
    {
     "ename": "AttributeError",
     "evalue": "'tuple' object has no attribute 'verts_packed'",
     "output_type": "error",
     "traceback": [
      "\u001b[0;31m---------------------------------------------------------------------------\u001b[0m",
      "\u001b[0;31mAttributeError\u001b[0m                            Traceback (most recent call last)",
      "Cell \u001b[0;32mIn[6], line 8\u001b[0m\n\u001b[1;32m      6\u001b[0m src_mesh \u001b[38;5;241m=\u001b[39m load_obj(\u001b[38;5;124m\"\u001b[39m\u001b[38;5;124m/DATA/disk1/3dmodel/3dmodel/model_fanyan/2024on_fanyan.obj\u001b[39m\u001b[38;5;124m\"\u001b[39m)\n\u001b[1;32m      7\u001b[0m \u001b[38;5;28mprint\u001b[39m(\u001b[38;5;28mlen\u001b[39m(src_mesh))\n\u001b[0;32m----> 8\u001b[0m verts \u001b[38;5;241m=\u001b[39m \u001b[43msrc_mesh\u001b[49m\u001b[38;5;241;43m.\u001b[39;49m\u001b[43mverts_packed\u001b[49m()\n\u001b[1;32m      9\u001b[0m \u001b[38;5;28mprint\u001b[39m(\u001b[38;5;28mlen\u001b[39m(verts\u001b[38;5;241m.\u001b[39mshape))\n",
      "\u001b[0;31mAttributeError\u001b[0m: 'tuple' object has no attribute 'verts_packed'"
     ]
    }
   ],
   "source": [
    "import pytorch3d\n",
    "from pytorch3d.io import load_obj\n",
    "import plotly.graph_objects as go\n",
    "\n",
    "# 加载模型\n",
    "src_mesh = load_obj(\"/DATA/disk1/3dmodel/3dmodel/model_fanyan/2024on_fanyan.obj\")\n",
    "print(len(src_mesh))\n",
    "verts = src_mesh.verts_packed()\n",
    "print(len(verts.shape))\n",
    "\n"
   ]
  },
  {
   "cell_type": "code",
   "execution_count": null,
   "metadata": {},
   "outputs": [],
   "source": [
    "fig = go.Figure(data=[go.Scatter3d(\n",
    "    x=radar_los_numpy[:,0], \n",
    "    y=radar_los_numpy[:,1], \n",
    "    z=radar_los_numpy[:,2], \n",
    "    mode='markers',\n",
    "    marker=dict(\n",
    "        size=2  # 设置点的大小\n",
    "    )\n",
    ")])\n",
    "\n",
    "fig.add_trace(go.Scatter3d(\n",
    "    x=[0, omega_vec_numpy[5,0]],\n",
    "    y=[0, omega_vec_numpy[5,1]],\n",
    "    z=[0, omega_vec_numpy[5,2]],\n",
    "    mode='lines+markers',\n",
    "    marker=dict(size=2),\n",
    "    line=dict(width=2)\n",
    "))\n",
    "\n",
    "# 在中心处添加模型\n",
    "verts = src_mesh.verts_packed()\n",
    "verts_numpy = verts.detach().cpu().numpy()\n",
    "fig.add_trace(go.Scatter3d(\n",
    "    x=verts_numpy[:,0]*0.3, \n",
    "    y=verts_numpy[:,1]*0.3, \n",
    "    z=verts_numpy[:,2]*0.3, \n",
    "    mode='markers',\n",
    "    marker=dict(\n",
    "        size=2  # 设置点的大小\n",
    "    )\n",
    "))\n",
    "\n",
    "\n",
    "# 更新布局\n",
    "fig.update_layout(scene=dict(\n",
    "    xaxis_title='X label',\n",
    "    yaxis_title='Y label',\n",
    "    zaxis_title='Z label'\n",
    "))\n",
    "\n",
    "# 显示图形\n",
    "fig.show()\n",
    "\n",
    "# 将图形保存为html文件\n",
    "fig.write_html(\"Radar_los.html\")"
   ]
  }
 ],
 "metadata": {
  "kernelspec": {
   "display_name": "3d_env",
   "language": "python",
   "name": "python3"
  },
  "language_info": {
   "codemirror_mode": {
    "name": "ipython",
    "version": 3
   },
   "file_extension": ".py",
   "mimetype": "text/x-python",
   "name": "python",
   "nbconvert_exporter": "python",
   "pygments_lexer": "ipython3",
   "version": "3.10.15"
  }
 },
 "nbformat": 4,
 "nbformat_minor": 2
}
