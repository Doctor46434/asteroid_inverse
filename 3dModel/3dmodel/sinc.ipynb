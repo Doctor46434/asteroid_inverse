import numpy as np
import matplotlib.pyplot as plt

# 创建一个二维的网格
x = np.linspace(-10, 10, 256)
y = np.linspace(-10, 10, 256)
X, Y = np.meshgrid(x, y)

# 定位点 (x_0, y_0)
x_0, y_0 = 0, 0

# 计算 sinc 的值
sinc_2d = np.sinc(X - x_0) * np.sinc(Y - y_0)

# 二维 FFT
fft2_result = np.fft.fftshift(np.fft.fft2(sinc_2d))

# 绘制结果
plt.imshow(np.abs(fft2_result), extent=[-10, 10, -10, 10])
plt.title("Magnitude Spectrum of 2D FFT")
plt.xlabel("Frequency X")
plt.ylabel("Frequency Y")
plt.colorbar()
plt.show()