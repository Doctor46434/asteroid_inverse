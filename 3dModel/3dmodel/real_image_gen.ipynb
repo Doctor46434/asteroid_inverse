{
 "cells": [
  {
   "cell_type": "code",
   "execution_count": 1,
   "metadata": {},
   "outputs": [],
   "source": [
    "# 针对真实图片生成轨迹\n",
    "# 添加库函数\n",
    "import os\n",
    "import torch\n",
    "import torch.nn as nn\n",
    "import math\n",
    "import torch.optim as optim\n",
    "from pytorch3d.io import load_obj, save_obj\n",
    "from pytorch3d.structures import Meshes\n",
    "from pytorch3d.utils import ico_sphere\n",
    "from pytorch3d.ops import sample_points_from_meshes\n",
    "from pytorch3d.loss import (\n",
    "    chamfer_distance, \n",
    "    mesh_edge_loss, \n",
    "    mesh_laplacian_smoothing, \n",
    "    mesh_normal_consistency,\n",
    ")\n",
    "from pytorch3d.utils import ico_sphere\n",
    "import numpy as np\n",
    "from tqdm.notebook import tqdm\n",
    "from mpl_toolkits.mplot3d import Axes3D\n",
    "import matplotlib.pyplot as plt\n",
    "import matplotlib as mpl\n",
    "from pytorch3d.renderer import (\n",
    "    FoVPerspectiveCameras, look_at_view_transform, look_at_rotation, \n",
    "    RasterizationSettings, MeshRenderer, MeshRasterizer, BlendParams,\n",
    "    SoftSilhouetteShader, HardPhongShader, PointLights, TexturesVertex,OrthographicCameras\n",
    ")\n",
    "from pytorch3d.vis.plotly_vis import plot_batch_individually\n",
    "from pytorch3d.ops.points_normals import estimate_pointcloud_normals\n",
    "from pytorch3d.ops.mesh_face_areas_normals import mesh_face_areas_normals\n",
    "from torch.autograd import gradcheck\n",
    "\n",
    "import plotly.graph_objects as go\n",
    "\n",
    "from PIL import Image\n",
    "\n",
    "import re\n",
    "\n",
    "mpl.rcParams['savefig.dpi'] = 80\n",
    "mpl.rcParams['figure.dpi'] = 80\n",
    "\n",
    "# Set the device\n",
    "if torch.cuda.is_available():\n",
    "    device = torch.device(\"cuda:3\")\n",
    "else:\n",
    "    device = torch.device(\"cpu\")\n",
    "    print(\"WARNING: CPU only, this will be slow!\")"
   ]
  },
  {
   "cell_type": "code",
   "execution_count": 5,
   "metadata": {},
   "outputs": [
    {
     "data": {
      "application/vnd.plotly.v1+json": {
       "config": {
        "plotlyServerURL": "https://plot.ly"
       },
       "data": [
        {
         "marker": {
          "size": 2
         },
         "mode": "markers",
         "type": "scatter3d",
         "x": [
          0,
          0.180056631565094,
          0.35224398970603943,
          0.5090365409851074,
          0.643581748008728,
          0.7499994039535522,
          0.8236384391784668,
          0.8612805604934692,
          0.8612805604934692,
          0.8236384391784668,
          0.7499994039535522,
          0.643581748008728,
          0.5090365409851074,
          0.35224398970603943,
          0.180056631565094,
          4.906496580485658e-16,
          -0.180056631565094,
          -0.35224398970603943,
          -0.5090365409851074,
          -0.643581748008728,
          -0.7499994039535522,
          -0.8236384391784668,
          -0.8612805604934692,
          -0.8612805604934692,
          -0.8236384391784668,
          -0.7499994039535522,
          -0.643581748008728,
          -0.5090365409851074,
          -0.35224398970603943,
          -0.180056631565094
         ],
         "y": [
          0.4999995827674866,
          0.4999995231628418,
          0.4999995827674866,
          0.4999995827674866,
          0.4999995827674866,
          0.4999995827674866,
          0.4999995827674866,
          0.4999995827674866,
          0.4999995827674866,
          0.4999995827674866,
          0.4999995827674866,
          0.4999995827674866,
          0.4999995827674866,
          0.4999995827674866,
          0.4999995231628418,
          0.4999995827674866,
          0.4999995231628418,
          0.4999995827674866,
          0.4999995827674866,
          0.4999995827674866,
          0.4999995827674866,
          0.4999995827674866,
          0.4999995827674866,
          0.4999995827674866,
          0.4999995827674866,
          0.4999995827674866,
          0.4999995827674866,
          0.4999995827674866,
          0.4999995827674866,
          0.4999995231628418
         ],
         "z": [
          0.8660247325897217,
          0.8470999002456665,
          0.7911528944969177,
          0.7006286978721619,
          0.5794836282730103,
          0.43301236629486084,
          0.2676163613796234,
          0.09052423387765884,
          -0.09052423387765884,
          -0.2676163613796234,
          -0.43301236629486084,
          -0.5794836282730103,
          -0.7006286978721619,
          -0.7911528944969177,
          -0.8470999002456665,
          -0.8660247325897217,
          -0.8470999002456665,
          -0.7911528944969177,
          -0.7006286978721619,
          -0.5794836282730103,
          -0.43301236629486084,
          -0.2676163613796234,
          -0.09052423387765884,
          0.09052423387765884,
          0.2676163613796234,
          0.43301236629486084,
          0.5794836282730103,
          0.7006286978721619,
          0.7911528944969177,
          0.8470999002456665
         ]
        },
        {
         "line": {
          "width": 2
         },
         "marker": {
          "size": 2
         },
         "mode": "lines+markers",
         "type": "scatter3d",
         "x": [
          0,
          0
         ],
         "y": [
          0,
          1
         ],
         "z": [
          0,
          0
         ]
        }
       ],
       "layout": {
        "scene": {
         "xaxis": {
          "title": {
           "text": "X label"
          }
         },
         "yaxis": {
          "title": {
           "text": "Y label"
          }
         },
         "zaxis": {
          "title": {
           "text": "Z label"
          }
         }
        },
        "template": {
         "data": {
          "bar": [
           {
            "error_x": {
             "color": "#2a3f5f"
            },
            "error_y": {
             "color": "#2a3f5f"
            },
            "marker": {
             "line": {
              "color": "#E5ECF6",
              "width": 0.5
             },
             "pattern": {
              "fillmode": "overlay",
              "size": 10,
              "solidity": 0.2
             }
            },
            "type": "bar"
           }
          ],
          "barpolar": [
           {
            "marker": {
             "line": {
              "color": "#E5ECF6",
              "width": 0.5
             },
             "pattern": {
              "fillmode": "overlay",
              "size": 10,
              "solidity": 0.2
             }
            },
            "type": "barpolar"
           }
          ],
          "carpet": [
           {
            "aaxis": {
             "endlinecolor": "#2a3f5f",
             "gridcolor": "white",
             "linecolor": "white",
             "minorgridcolor": "white",
             "startlinecolor": "#2a3f5f"
            },
            "baxis": {
             "endlinecolor": "#2a3f5f",
             "gridcolor": "white",
             "linecolor": "white",
             "minorgridcolor": "white",
             "startlinecolor": "#2a3f5f"
            },
            "type": "carpet"
           }
          ],
          "choropleth": [
           {
            "colorbar": {
             "outlinewidth": 0,
             "ticks": ""
            },
            "type": "choropleth"
           }
          ],
          "contour": [
           {
            "colorbar": {
             "outlinewidth": 0,
             "ticks": ""
            },
            "colorscale": [
             [
              0,
              "#0d0887"
             ],
             [
              0.1111111111111111,
              "#46039f"
             ],
             [
              0.2222222222222222,
              "#7201a8"
             ],
             [
              0.3333333333333333,
              "#9c179e"
             ],
             [
              0.4444444444444444,
              "#bd3786"
             ],
             [
              0.5555555555555556,
              "#d8576b"
             ],
             [
              0.6666666666666666,
              "#ed7953"
             ],
             [
              0.7777777777777778,
              "#fb9f3a"
             ],
             [
              0.8888888888888888,
              "#fdca26"
             ],
             [
              1,
              "#f0f921"
             ]
            ],
            "type": "contour"
           }
          ],
          "contourcarpet": [
           {
            "colorbar": {
             "outlinewidth": 0,
             "ticks": ""
            },
            "type": "contourcarpet"
           }
          ],
          "heatmap": [
           {
            "colorbar": {
             "outlinewidth": 0,
             "ticks": ""
            },
            "colorscale": [
             [
              0,
              "#0d0887"
             ],
             [
              0.1111111111111111,
              "#46039f"
             ],
             [
              0.2222222222222222,
              "#7201a8"
             ],
             [
              0.3333333333333333,
              "#9c179e"
             ],
             [
              0.4444444444444444,
              "#bd3786"
             ],
             [
              0.5555555555555556,
              "#d8576b"
             ],
             [
              0.6666666666666666,
              "#ed7953"
             ],
             [
              0.7777777777777778,
              "#fb9f3a"
             ],
             [
              0.8888888888888888,
              "#fdca26"
             ],
             [
              1,
              "#f0f921"
             ]
            ],
            "type": "heatmap"
           }
          ],
          "heatmapgl": [
           {
            "colorbar": {
             "outlinewidth": 0,
             "ticks": ""
            },
            "colorscale": [
             [
              0,
              "#0d0887"
             ],
             [
              0.1111111111111111,
              "#46039f"
             ],
             [
              0.2222222222222222,
              "#7201a8"
             ],
             [
              0.3333333333333333,
              "#9c179e"
             ],
             [
              0.4444444444444444,
              "#bd3786"
             ],
             [
              0.5555555555555556,
              "#d8576b"
             ],
             [
              0.6666666666666666,
              "#ed7953"
             ],
             [
              0.7777777777777778,
              "#fb9f3a"
             ],
             [
              0.8888888888888888,
              "#fdca26"
             ],
             [
              1,
              "#f0f921"
             ]
            ],
            "type": "heatmapgl"
           }
          ],
          "histogram": [
           {
            "marker": {
             "pattern": {
              "fillmode": "overlay",
              "size": 10,
              "solidity": 0.2
             }
            },
            "type": "histogram"
           }
          ],
          "histogram2d": [
           {
            "colorbar": {
             "outlinewidth": 0,
             "ticks": ""
            },
            "colorscale": [
             [
              0,
              "#0d0887"
             ],
             [
              0.1111111111111111,
              "#46039f"
             ],
             [
              0.2222222222222222,
              "#7201a8"
             ],
             [
              0.3333333333333333,
              "#9c179e"
             ],
             [
              0.4444444444444444,
              "#bd3786"
             ],
             [
              0.5555555555555556,
              "#d8576b"
             ],
             [
              0.6666666666666666,
              "#ed7953"
             ],
             [
              0.7777777777777778,
              "#fb9f3a"
             ],
             [
              0.8888888888888888,
              "#fdca26"
             ],
             [
              1,
              "#f0f921"
             ]
            ],
            "type": "histogram2d"
           }
          ],
          "histogram2dcontour": [
           {
            "colorbar": {
             "outlinewidth": 0,
             "ticks": ""
            },
            "colorscale": [
             [
              0,
              "#0d0887"
             ],
             [
              0.1111111111111111,
              "#46039f"
             ],
             [
              0.2222222222222222,
              "#7201a8"
             ],
             [
              0.3333333333333333,
              "#9c179e"
             ],
             [
              0.4444444444444444,
              "#bd3786"
             ],
             [
              0.5555555555555556,
              "#d8576b"
             ],
             [
              0.6666666666666666,
              "#ed7953"
             ],
             [
              0.7777777777777778,
              "#fb9f3a"
             ],
             [
              0.8888888888888888,
              "#fdca26"
             ],
             [
              1,
              "#f0f921"
             ]
            ],
            "type": "histogram2dcontour"
           }
          ],
          "mesh3d": [
           {
            "colorbar": {
             "outlinewidth": 0,
             "ticks": ""
            },
            "type": "mesh3d"
           }
          ],
          "parcoords": [
           {
            "line": {
             "colorbar": {
              "outlinewidth": 0,
              "ticks": ""
             }
            },
            "type": "parcoords"
           }
          ],
          "pie": [
           {
            "automargin": true,
            "type": "pie"
           }
          ],
          "scatter": [
           {
            "fillpattern": {
             "fillmode": "overlay",
             "size": 10,
             "solidity": 0.2
            },
            "type": "scatter"
           }
          ],
          "scatter3d": [
           {
            "line": {
             "colorbar": {
              "outlinewidth": 0,
              "ticks": ""
             }
            },
            "marker": {
             "colorbar": {
              "outlinewidth": 0,
              "ticks": ""
             }
            },
            "type": "scatter3d"
           }
          ],
          "scattercarpet": [
           {
            "marker": {
             "colorbar": {
              "outlinewidth": 0,
              "ticks": ""
             }
            },
            "type": "scattercarpet"
           }
          ],
          "scattergeo": [
           {
            "marker": {
             "colorbar": {
              "outlinewidth": 0,
              "ticks": ""
             }
            },
            "type": "scattergeo"
           }
          ],
          "scattergl": [
           {
            "marker": {
             "colorbar": {
              "outlinewidth": 0,
              "ticks": ""
             }
            },
            "type": "scattergl"
           }
          ],
          "scattermapbox": [
           {
            "marker": {
             "colorbar": {
              "outlinewidth": 0,
              "ticks": ""
             }
            },
            "type": "scattermapbox"
           }
          ],
          "scatterpolar": [
           {
            "marker": {
             "colorbar": {
              "outlinewidth": 0,
              "ticks": ""
             }
            },
            "type": "scatterpolar"
           }
          ],
          "scatterpolargl": [
           {
            "marker": {
             "colorbar": {
              "outlinewidth": 0,
              "ticks": ""
             }
            },
            "type": "scatterpolargl"
           }
          ],
          "scatterternary": [
           {
            "marker": {
             "colorbar": {
              "outlinewidth": 0,
              "ticks": ""
             }
            },
            "type": "scatterternary"
           }
          ],
          "surface": [
           {
            "colorbar": {
             "outlinewidth": 0,
             "ticks": ""
            },
            "colorscale": [
             [
              0,
              "#0d0887"
             ],
             [
              0.1111111111111111,
              "#46039f"
             ],
             [
              0.2222222222222222,
              "#7201a8"
             ],
             [
              0.3333333333333333,
              "#9c179e"
             ],
             [
              0.4444444444444444,
              "#bd3786"
             ],
             [
              0.5555555555555556,
              "#d8576b"
             ],
             [
              0.6666666666666666,
              "#ed7953"
             ],
             [
              0.7777777777777778,
              "#fb9f3a"
             ],
             [
              0.8888888888888888,
              "#fdca26"
             ],
             [
              1,
              "#f0f921"
             ]
            ],
            "type": "surface"
           }
          ],
          "table": [
           {
            "cells": {
             "fill": {
              "color": "#EBF0F8"
             },
             "line": {
              "color": "white"
             }
            },
            "header": {
             "fill": {
              "color": "#C8D4E3"
             },
             "line": {
              "color": "white"
             }
            },
            "type": "table"
           }
          ]
         },
         "layout": {
          "annotationdefaults": {
           "arrowcolor": "#2a3f5f",
           "arrowhead": 0,
           "arrowwidth": 1
          },
          "autotypenumbers": "strict",
          "coloraxis": {
           "colorbar": {
            "outlinewidth": 0,
            "ticks": ""
           }
          },
          "colorscale": {
           "diverging": [
            [
             0,
             "#8e0152"
            ],
            [
             0.1,
             "#c51b7d"
            ],
            [
             0.2,
             "#de77ae"
            ],
            [
             0.3,
             "#f1b6da"
            ],
            [
             0.4,
             "#fde0ef"
            ],
            [
             0.5,
             "#f7f7f7"
            ],
            [
             0.6,
             "#e6f5d0"
            ],
            [
             0.7,
             "#b8e186"
            ],
            [
             0.8,
             "#7fbc41"
            ],
            [
             0.9,
             "#4d9221"
            ],
            [
             1,
             "#276419"
            ]
           ],
           "sequential": [
            [
             0,
             "#0d0887"
            ],
            [
             0.1111111111111111,
             "#46039f"
            ],
            [
             0.2222222222222222,
             "#7201a8"
            ],
            [
             0.3333333333333333,
             "#9c179e"
            ],
            [
             0.4444444444444444,
             "#bd3786"
            ],
            [
             0.5555555555555556,
             "#d8576b"
            ],
            [
             0.6666666666666666,
             "#ed7953"
            ],
            [
             0.7777777777777778,
             "#fb9f3a"
            ],
            [
             0.8888888888888888,
             "#fdca26"
            ],
            [
             1,
             "#f0f921"
            ]
           ],
           "sequentialminus": [
            [
             0,
             "#0d0887"
            ],
            [
             0.1111111111111111,
             "#46039f"
            ],
            [
             0.2222222222222222,
             "#7201a8"
            ],
            [
             0.3333333333333333,
             "#9c179e"
            ],
            [
             0.4444444444444444,
             "#bd3786"
            ],
            [
             0.5555555555555556,
             "#d8576b"
            ],
            [
             0.6666666666666666,
             "#ed7953"
            ],
            [
             0.7777777777777778,
             "#fb9f3a"
            ],
            [
             0.8888888888888888,
             "#fdca26"
            ],
            [
             1,
             "#f0f921"
            ]
           ]
          },
          "colorway": [
           "#636efa",
           "#EF553B",
           "#00cc96",
           "#ab63fa",
           "#FFA15A",
           "#19d3f3",
           "#FF6692",
           "#B6E880",
           "#FF97FF",
           "#FECB52"
          ],
          "font": {
           "color": "#2a3f5f"
          },
          "geo": {
           "bgcolor": "white",
           "lakecolor": "white",
           "landcolor": "#E5ECF6",
           "showlakes": true,
           "showland": true,
           "subunitcolor": "white"
          },
          "hoverlabel": {
           "align": "left"
          },
          "hovermode": "closest",
          "mapbox": {
           "style": "light"
          },
          "paper_bgcolor": "white",
          "plot_bgcolor": "#E5ECF6",
          "polar": {
           "angularaxis": {
            "gridcolor": "white",
            "linecolor": "white",
            "ticks": ""
           },
           "bgcolor": "#E5ECF6",
           "radialaxis": {
            "gridcolor": "white",
            "linecolor": "white",
            "ticks": ""
           }
          },
          "scene": {
           "xaxis": {
            "backgroundcolor": "#E5ECF6",
            "gridcolor": "white",
            "gridwidth": 2,
            "linecolor": "white",
            "showbackground": true,
            "ticks": "",
            "zerolinecolor": "white"
           },
           "yaxis": {
            "backgroundcolor": "#E5ECF6",
            "gridcolor": "white",
            "gridwidth": 2,
            "linecolor": "white",
            "showbackground": true,
            "ticks": "",
            "zerolinecolor": "white"
           },
           "zaxis": {
            "backgroundcolor": "#E5ECF6",
            "gridcolor": "white",
            "gridwidth": 2,
            "linecolor": "white",
            "showbackground": true,
            "ticks": "",
            "zerolinecolor": "white"
           }
          },
          "shapedefaults": {
           "line": {
            "color": "#2a3f5f"
           }
          },
          "ternary": {
           "aaxis": {
            "gridcolor": "white",
            "linecolor": "white",
            "ticks": ""
           },
           "baxis": {
            "gridcolor": "white",
            "linecolor": "white",
            "ticks": ""
           },
           "bgcolor": "#E5ECF6",
           "caxis": {
            "gridcolor": "white",
            "linecolor": "white",
            "ticks": ""
           }
          },
          "title": {
           "x": 0.05
          },
          "xaxis": {
           "automargin": true,
           "gridcolor": "white",
           "linecolor": "white",
           "ticks": "",
           "title": {
            "standoff": 15
           },
           "zerolinecolor": "white",
           "zerolinewidth": 2
          },
          "yaxis": {
           "automargin": true,
           "gridcolor": "white",
           "linecolor": "white",
           "ticks": "",
           "title": {
            "standoff": 15
           },
           "zerolinecolor": "white",
           "zerolinewidth": 2
          }
         }
        }
       }
      },
      "text/html": [
       "<div>                            <div id=\"daf020d3-9d95-41d2-9ba7-f26d9e61d94e\" class=\"plotly-graph-div\" style=\"height:525px; width:100%;\"></div>            <script type=\"text/javascript\">                require([\"plotly\"], function(Plotly) {                    window.PLOTLYENV=window.PLOTLYENV || {};                                    if (document.getElementById(\"daf020d3-9d95-41d2-9ba7-f26d9e61d94e\")) {                    Plotly.newPlot(                        \"daf020d3-9d95-41d2-9ba7-f26d9e61d94e\",                        [{\"marker\":{\"size\":2},\"mode\":\"markers\",\"x\":[0.0,0.180056631565094,0.35224398970603943,0.5090365409851074,0.643581748008728,0.7499994039535522,0.8236384391784668,0.8612805604934692,0.8612805604934692,0.8236384391784668,0.7499994039535522,0.643581748008728,0.5090365409851074,0.35224398970603943,0.180056631565094,4.906496580485658e-16,-0.180056631565094,-0.35224398970603943,-0.5090365409851074,-0.643581748008728,-0.7499994039535522,-0.8236384391784668,-0.8612805604934692,-0.8612805604934692,-0.8236384391784668,-0.7499994039535522,-0.643581748008728,-0.5090365409851074,-0.35224398970603943,-0.180056631565094],\"y\":[0.4999995827674866,0.4999995231628418,0.4999995827674866,0.4999995827674866,0.4999995827674866,0.4999995827674866,0.4999995827674866,0.4999995827674866,0.4999995827674866,0.4999995827674866,0.4999995827674866,0.4999995827674866,0.4999995827674866,0.4999995827674866,0.4999995231628418,0.4999995827674866,0.4999995231628418,0.4999995827674866,0.4999995827674866,0.4999995827674866,0.4999995827674866,0.4999995827674866,0.4999995827674866,0.4999995827674866,0.4999995827674866,0.4999995827674866,0.4999995827674866,0.4999995827674866,0.4999995827674866,0.4999995231628418],\"z\":[0.8660247325897217,0.8470999002456665,0.7911528944969177,0.7006286978721619,0.5794836282730103,0.43301236629486084,0.2676163613796234,0.09052423387765884,-0.09052423387765884,-0.2676163613796234,-0.43301236629486084,-0.5794836282730103,-0.7006286978721619,-0.7911528944969177,-0.8470999002456665,-0.8660247325897217,-0.8470999002456665,-0.7911528944969177,-0.7006286978721619,-0.5794836282730103,-0.43301236629486084,-0.2676163613796234,-0.09052423387765884,0.09052423387765884,0.2676163613796234,0.43301236629486084,0.5794836282730103,0.7006286978721619,0.7911528944969177,0.8470999002456665],\"type\":\"scatter3d\"},{\"line\":{\"width\":2},\"marker\":{\"size\":2},\"mode\":\"lines+markers\",\"x\":[0,0.0],\"y\":[0,1.0],\"z\":[0,0.0],\"type\":\"scatter3d\"}],                        {\"template\":{\"data\":{\"histogram2dcontour\":[{\"type\":\"histogram2dcontour\",\"colorbar\":{\"outlinewidth\":0,\"ticks\":\"\"},\"colorscale\":[[0.0,\"#0d0887\"],[0.1111111111111111,\"#46039f\"],[0.2222222222222222,\"#7201a8\"],[0.3333333333333333,\"#9c179e\"],[0.4444444444444444,\"#bd3786\"],[0.5555555555555556,\"#d8576b\"],[0.6666666666666666,\"#ed7953\"],[0.7777777777777778,\"#fb9f3a\"],[0.8888888888888888,\"#fdca26\"],[1.0,\"#f0f921\"]]}],\"choropleth\":[{\"type\":\"choropleth\",\"colorbar\":{\"outlinewidth\":0,\"ticks\":\"\"}}],\"histogram2d\":[{\"type\":\"histogram2d\",\"colorbar\":{\"outlinewidth\":0,\"ticks\":\"\"},\"colorscale\":[[0.0,\"#0d0887\"],[0.1111111111111111,\"#46039f\"],[0.2222222222222222,\"#7201a8\"],[0.3333333333333333,\"#9c179e\"],[0.4444444444444444,\"#bd3786\"],[0.5555555555555556,\"#d8576b\"],[0.6666666666666666,\"#ed7953\"],[0.7777777777777778,\"#fb9f3a\"],[0.8888888888888888,\"#fdca26\"],[1.0,\"#f0f921\"]]}],\"heatmap\":[{\"type\":\"heatmap\",\"colorbar\":{\"outlinewidth\":0,\"ticks\":\"\"},\"colorscale\":[[0.0,\"#0d0887\"],[0.1111111111111111,\"#46039f\"],[0.2222222222222222,\"#7201a8\"],[0.3333333333333333,\"#9c179e\"],[0.4444444444444444,\"#bd3786\"],[0.5555555555555556,\"#d8576b\"],[0.6666666666666666,\"#ed7953\"],[0.7777777777777778,\"#fb9f3a\"],[0.8888888888888888,\"#fdca26\"],[1.0,\"#f0f921\"]]}],\"heatmapgl\":[{\"type\":\"heatmapgl\",\"colorbar\":{\"outlinewidth\":0,\"ticks\":\"\"},\"colorscale\":[[0.0,\"#0d0887\"],[0.1111111111111111,\"#46039f\"],[0.2222222222222222,\"#7201a8\"],[0.3333333333333333,\"#9c179e\"],[0.4444444444444444,\"#bd3786\"],[0.5555555555555556,\"#d8576b\"],[0.6666666666666666,\"#ed7953\"],[0.7777777777777778,\"#fb9f3a\"],[0.8888888888888888,\"#fdca26\"],[1.0,\"#f0f921\"]]}],\"contourcarpet\":[{\"type\":\"contourcarpet\",\"colorbar\":{\"outlinewidth\":0,\"ticks\":\"\"}}],\"contour\":[{\"type\":\"contour\",\"colorbar\":{\"outlinewidth\":0,\"ticks\":\"\"},\"colorscale\":[[0.0,\"#0d0887\"],[0.1111111111111111,\"#46039f\"],[0.2222222222222222,\"#7201a8\"],[0.3333333333333333,\"#9c179e\"],[0.4444444444444444,\"#bd3786\"],[0.5555555555555556,\"#d8576b\"],[0.6666666666666666,\"#ed7953\"],[0.7777777777777778,\"#fb9f3a\"],[0.8888888888888888,\"#fdca26\"],[1.0,\"#f0f921\"]]}],\"surface\":[{\"type\":\"surface\",\"colorbar\":{\"outlinewidth\":0,\"ticks\":\"\"},\"colorscale\":[[0.0,\"#0d0887\"],[0.1111111111111111,\"#46039f\"],[0.2222222222222222,\"#7201a8\"],[0.3333333333333333,\"#9c179e\"],[0.4444444444444444,\"#bd3786\"],[0.5555555555555556,\"#d8576b\"],[0.6666666666666666,\"#ed7953\"],[0.7777777777777778,\"#fb9f3a\"],[0.8888888888888888,\"#fdca26\"],[1.0,\"#f0f921\"]]}],\"mesh3d\":[{\"type\":\"mesh3d\",\"colorbar\":{\"outlinewidth\":0,\"ticks\":\"\"}}],\"scatter\":[{\"fillpattern\":{\"fillmode\":\"overlay\",\"size\":10,\"solidity\":0.2},\"type\":\"scatter\"}],\"parcoords\":[{\"type\":\"parcoords\",\"line\":{\"colorbar\":{\"outlinewidth\":0,\"ticks\":\"\"}}}],\"scatterpolargl\":[{\"type\":\"scatterpolargl\",\"marker\":{\"colorbar\":{\"outlinewidth\":0,\"ticks\":\"\"}}}],\"bar\":[{\"error_x\":{\"color\":\"#2a3f5f\"},\"error_y\":{\"color\":\"#2a3f5f\"},\"marker\":{\"line\":{\"color\":\"#E5ECF6\",\"width\":0.5},\"pattern\":{\"fillmode\":\"overlay\",\"size\":10,\"solidity\":0.2}},\"type\":\"bar\"}],\"scattergeo\":[{\"type\":\"scattergeo\",\"marker\":{\"colorbar\":{\"outlinewidth\":0,\"ticks\":\"\"}}}],\"scatterpolar\":[{\"type\":\"scatterpolar\",\"marker\":{\"colorbar\":{\"outlinewidth\":0,\"ticks\":\"\"}}}],\"histogram\":[{\"marker\":{\"pattern\":{\"fillmode\":\"overlay\",\"size\":10,\"solidity\":0.2}},\"type\":\"histogram\"}],\"scattergl\":[{\"type\":\"scattergl\",\"marker\":{\"colorbar\":{\"outlinewidth\":0,\"ticks\":\"\"}}}],\"scatter3d\":[{\"type\":\"scatter3d\",\"line\":{\"colorbar\":{\"outlinewidth\":0,\"ticks\":\"\"}},\"marker\":{\"colorbar\":{\"outlinewidth\":0,\"ticks\":\"\"}}}],\"scattermapbox\":[{\"type\":\"scattermapbox\",\"marker\":{\"colorbar\":{\"outlinewidth\":0,\"ticks\":\"\"}}}],\"scatterternary\":[{\"type\":\"scatterternary\",\"marker\":{\"colorbar\":{\"outlinewidth\":0,\"ticks\":\"\"}}}],\"scattercarpet\":[{\"type\":\"scattercarpet\",\"marker\":{\"colorbar\":{\"outlinewidth\":0,\"ticks\":\"\"}}}],\"carpet\":[{\"aaxis\":{\"endlinecolor\":\"#2a3f5f\",\"gridcolor\":\"white\",\"linecolor\":\"white\",\"minorgridcolor\":\"white\",\"startlinecolor\":\"#2a3f5f\"},\"baxis\":{\"endlinecolor\":\"#2a3f5f\",\"gridcolor\":\"white\",\"linecolor\":\"white\",\"minorgridcolor\":\"white\",\"startlinecolor\":\"#2a3f5f\"},\"type\":\"carpet\"}],\"table\":[{\"cells\":{\"fill\":{\"color\":\"#EBF0F8\"},\"line\":{\"color\":\"white\"}},\"header\":{\"fill\":{\"color\":\"#C8D4E3\"},\"line\":{\"color\":\"white\"}},\"type\":\"table\"}],\"barpolar\":[{\"marker\":{\"line\":{\"color\":\"#E5ECF6\",\"width\":0.5},\"pattern\":{\"fillmode\":\"overlay\",\"size\":10,\"solidity\":0.2}},\"type\":\"barpolar\"}],\"pie\":[{\"automargin\":true,\"type\":\"pie\"}]},\"layout\":{\"autotypenumbers\":\"strict\",\"colorway\":[\"#636efa\",\"#EF553B\",\"#00cc96\",\"#ab63fa\",\"#FFA15A\",\"#19d3f3\",\"#FF6692\",\"#B6E880\",\"#FF97FF\",\"#FECB52\"],\"font\":{\"color\":\"#2a3f5f\"},\"hovermode\":\"closest\",\"hoverlabel\":{\"align\":\"left\"},\"paper_bgcolor\":\"white\",\"plot_bgcolor\":\"#E5ECF6\",\"polar\":{\"bgcolor\":\"#E5ECF6\",\"angularaxis\":{\"gridcolor\":\"white\",\"linecolor\":\"white\",\"ticks\":\"\"},\"radialaxis\":{\"gridcolor\":\"white\",\"linecolor\":\"white\",\"ticks\":\"\"}},\"ternary\":{\"bgcolor\":\"#E5ECF6\",\"aaxis\":{\"gridcolor\":\"white\",\"linecolor\":\"white\",\"ticks\":\"\"},\"baxis\":{\"gridcolor\":\"white\",\"linecolor\":\"white\",\"ticks\":\"\"},\"caxis\":{\"gridcolor\":\"white\",\"linecolor\":\"white\",\"ticks\":\"\"}},\"coloraxis\":{\"colorbar\":{\"outlinewidth\":0,\"ticks\":\"\"}},\"colorscale\":{\"sequential\":[[0.0,\"#0d0887\"],[0.1111111111111111,\"#46039f\"],[0.2222222222222222,\"#7201a8\"],[0.3333333333333333,\"#9c179e\"],[0.4444444444444444,\"#bd3786\"],[0.5555555555555556,\"#d8576b\"],[0.6666666666666666,\"#ed7953\"],[0.7777777777777778,\"#fb9f3a\"],[0.8888888888888888,\"#fdca26\"],[1.0,\"#f0f921\"]],\"sequentialminus\":[[0.0,\"#0d0887\"],[0.1111111111111111,\"#46039f\"],[0.2222222222222222,\"#7201a8\"],[0.3333333333333333,\"#9c179e\"],[0.4444444444444444,\"#bd3786\"],[0.5555555555555556,\"#d8576b\"],[0.6666666666666666,\"#ed7953\"],[0.7777777777777778,\"#fb9f3a\"],[0.8888888888888888,\"#fdca26\"],[1.0,\"#f0f921\"]],\"diverging\":[[0,\"#8e0152\"],[0.1,\"#c51b7d\"],[0.2,\"#de77ae\"],[0.3,\"#f1b6da\"],[0.4,\"#fde0ef\"],[0.5,\"#f7f7f7\"],[0.6,\"#e6f5d0\"],[0.7,\"#b8e186\"],[0.8,\"#7fbc41\"],[0.9,\"#4d9221\"],[1,\"#276419\"]]},\"xaxis\":{\"gridcolor\":\"white\",\"linecolor\":\"white\",\"ticks\":\"\",\"title\":{\"standoff\":15},\"zerolinecolor\":\"white\",\"automargin\":true,\"zerolinewidth\":2},\"yaxis\":{\"gridcolor\":\"white\",\"linecolor\":\"white\",\"ticks\":\"\",\"title\":{\"standoff\":15},\"zerolinecolor\":\"white\",\"automargin\":true,\"zerolinewidth\":2},\"scene\":{\"xaxis\":{\"backgroundcolor\":\"#E5ECF6\",\"gridcolor\":\"white\",\"linecolor\":\"white\",\"showbackground\":true,\"ticks\":\"\",\"zerolinecolor\":\"white\",\"gridwidth\":2},\"yaxis\":{\"backgroundcolor\":\"#E5ECF6\",\"gridcolor\":\"white\",\"linecolor\":\"white\",\"showbackground\":true,\"ticks\":\"\",\"zerolinecolor\":\"white\",\"gridwidth\":2},\"zaxis\":{\"backgroundcolor\":\"#E5ECF6\",\"gridcolor\":\"white\",\"linecolor\":\"white\",\"showbackground\":true,\"ticks\":\"\",\"zerolinecolor\":\"white\",\"gridwidth\":2}},\"shapedefaults\":{\"line\":{\"color\":\"#2a3f5f\"}},\"annotationdefaults\":{\"arrowcolor\":\"#2a3f5f\",\"arrowhead\":0,\"arrowwidth\":1},\"geo\":{\"bgcolor\":\"white\",\"landcolor\":\"#E5ECF6\",\"subunitcolor\":\"white\",\"showland\":true,\"showlakes\":true,\"lakecolor\":\"white\"},\"title\":{\"x\":0.05},\"mapbox\":{\"style\":\"light\"}}},\"scene\":{\"xaxis\":{\"title\":{\"text\":\"X label\"}},\"yaxis\":{\"title\":{\"text\":\"Y label\"}},\"zaxis\":{\"title\":{\"text\":\"Z label\"}}}},                        {\"responsive\": true}                    ).then(function(){\n",
       "                            \n",
       "var gd = document.getElementById('daf020d3-9d95-41d2-9ba7-f26d9e61d94e');\n",
       "var x = new MutationObserver(function (mutations, observer) {{\n",
       "        var display = window.getComputedStyle(gd).display;\n",
       "        if (!display || display === 'none') {{\n",
       "            console.log([gd, 'removed!']);\n",
       "            Plotly.purge(gd);\n",
       "            observer.disconnect();\n",
       "        }}\n",
       "}});\n",
       "\n",
       "// Listen for the removal of the full notebook cells\n",
       "var notebookContainer = gd.closest('#notebook-container');\n",
       "if (notebookContainer) {{\n",
       "    x.observe(notebookContainer, {childList: true});\n",
       "}}\n",
       "\n",
       "// Listen for the clearing of the current output cell\n",
       "var outputEl = gd.closest('.output');\n",
       "if (outputEl) {{\n",
       "    x.observe(outputEl, {childList: true});\n",
       "}}\n",
       "\n",
       "                        })                };                });            </script>        </div>"
      ]
     },
     "metadata": {},
     "output_type": "display_data"
    },
    {
     "name": "stdout",
     "output_type": "stream",
     "text": [
      "torch.Size([30, 3])\n",
      "torch.Size([30, 3])\n",
      "torch.Size([30, 3])\n",
      "tensor([[0., 1., 0.],\n",
      "        [0., 1., 0.],\n",
      "        [0., 1., 0.],\n",
      "        [0., 1., 0.],\n",
      "        [0., 1., 0.],\n",
      "        [0., 1., 0.],\n",
      "        [0., 1., 0.],\n",
      "        [0., 1., 0.],\n",
      "        [0., 1., 0.],\n",
      "        [0., 1., 0.],\n",
      "        [0., 1., 0.],\n",
      "        [0., 1., 0.],\n",
      "        [0., 1., 0.],\n",
      "        [0., 1., 0.],\n",
      "        [0., 1., 0.],\n",
      "        [0., 1., 0.],\n",
      "        [0., 1., 0.],\n",
      "        [0., 1., 0.],\n",
      "        [0., 1., 0.],\n",
      "        [0., 1., 0.],\n",
      "        [0., 1., 0.],\n",
      "        [0., 1., 0.],\n",
      "        [0., 1., 0.],\n",
      "        [0., 1., 0.],\n",
      "        [0., 1., 0.],\n",
      "        [0., 1., 0.],\n",
      "        [0., 1., 0.],\n",
      "        [0., 1., 0.],\n",
      "        [0., 1., 0.],\n",
      "        [0., 1., 0.]], device='cuda:3')\n"
     ]
    }
   ],
   "source": [
    "\n",
    "def vec_rot(vec,axis_x,axis_y,axis_z,theta):\n",
    "\n",
    "    axis_x = axis_x.expand(theta.shape)\n",
    "    axis_y = axis_y.expand(theta.shape)\n",
    "    axis_z = axis_z.expand(theta.shape)\n",
    "\n",
    "    c = torch.cos(theta)\n",
    "    s = torch.sin(theta)\n",
    "    one_c = 1 - c\n",
    "\n",
    "    Rotmat = torch.stack([\n",
    "        torch.stack([axis_x**2 * one_c + c, axis_x * axis_y * one_c - axis_z * s, axis_x * axis_z * one_c + axis_y * s], dim=-1),\n",
    "        torch.stack([axis_x * axis_y * one_c + axis_z * s, axis_y**2 * one_c + c, axis_y * axis_z * one_c - axis_x * s], dim=-1),\n",
    "        torch.stack([axis_x * axis_z * one_c - axis_y * s, axis_y * axis_z * one_c + axis_x * s, axis_z**2 * one_c + c], dim=-1)\n",
    "    ], dim=-2)\n",
    "\n",
    "    vec_rot = torch.matmul(Rotmat,vec.unsqueeze(1)).squeeze(2)\n",
    "\n",
    "    return vec_rot\n",
    "\n",
    "def Radarview_generate():\n",
    "\n",
    "    # 接下来的所有操作都在z-x-y坐标系下进行\n",
    "    \n",
    "    modelselect = 6\n",
    "    if modelselect == 1:\n",
    "        # 小行星视线方向及转轴生成\n",
    "        # batchsize\n",
    "        batch = 60\n",
    "        # 生成多组初始雷达视线方向\n",
    "        theta_losnum = 5\n",
    "        theta_los = torch.linspace(-math.pi/3,math.pi/3,theta_losnum).to(device)\n",
    "        radarlos_origin = torch.tensor(([0,0,-1.0]), device=device)\n",
    "        omega_vec_origin = torch.tensor(([1.0,0.0,0.0]), device=device)\n",
    "        RadarLos = vec_rot(radarlos_origin,omega_vec_origin[0],omega_vec_origin[1],omega_vec_origin[2],theta_los)\n",
    "        # 生成多组旋转角度\n",
    "        theta = torch.linspace(0,2*math.pi,batch).to(device)\n",
    "        # 生成多组转轴\n",
    "        omega_vec_origin1 = torch.tensor(([0.0,1.0,0.0]), device=device)\n",
    "        omega_vec = vec_rot(omega_vec_origin1,omega_vec_origin[0],omega_vec_origin[1],omega_vec_origin[2],theta_los)\n",
    "        # 得到雷达视线方向\n",
    "        Round_radar_los_all = torch.zeros((batch*RadarLos.shape[0],3),device=device)\n",
    "        Round_radar_los_real_all = torch.zeros((batch*RadarLos.shape[0],3),device=device)\n",
    "        omega_vec_all = torch.zeros((batch*omega_vec.shape[0],3),device=device)\n",
    "        for i,j in zip(range(RadarLos.shape[0]),range(omega_vec.shape[0])):\n",
    "                Round_radar_los = vec_rot(RadarLos[i],omega_vec[j,0],omega_vec[j,1],omega_vec[j,2],-theta)\n",
    "                Round_radar_los_all[batch*i:batch*(i+1)] = Round_radar_los\n",
    "                Round_radar_los_real_all[batch*i:batch*(i+1)] = vec_rot(RadarLos[i],omega_vec[j,0],omega_vec[j,1],omega_vec[j,2],theta)\n",
    "                print(omega_vec[j])\n",
    "                omega_vec_all[batch*j:batch*(j+1)] = omega_vec[j].expand(batch,3)\n",
    "        # 转速\n",
    "        omega = torch.tensor([1.0],device=device).expand(Round_radar_los_all.shape[0])\n",
    "    if modelselect == 2:\n",
    "        # tomosar视线方向及转轴生成\n",
    "        # batchsize\n",
    "        batch = 40\n",
    "        # 生成一组初始雷达视线方向\n",
    "        RadarLos = torch.tensor(([0,0,-1.0]), device=device)\n",
    "        # 生成多组旋转角度\n",
    "        theta = torch.linspace(-math.pi/3,math.pi/3,batch).to(device)\n",
    "        # 生成一组转轴\n",
    "        omega_vec = torch.tensor(([0.0,1.0,0.0]), device=device)\n",
    "        # 生成一组雷达视线旋转转轴\n",
    "        rotation_vec = torch.tensor(([1.0,0.0,0.0]), device=device)\n",
    "        Round_radar_los_all = vec_rot(RadarLos,rotation_vec[0],rotation_vec[1],rotation_vec[2],-theta)\n",
    "        Round_radar_los_real_all = Round_radar_los_all\n",
    "        omega_vec_all = omega_vec.expand(batch,3)\n",
    "        # 转速\n",
    "        omega = torch.tensor([1.0],device=device).expand(Round_radar_los_all.shape[0])\n",
    "    if modelselect == 4:\n",
    "        # 小行星视线方向及转轴生成\n",
    "        # batchsize\n",
    "        batch = 30\n",
    "        # 生成多组初始雷达视线方向\n",
    "        RadarLos = torch.tensor(([-1.0,0.0,0.0],[-math.sqrt(3)/2,0.0,1/2],[-math.sqrt(3)/2,0.0,-1/2]), device=device)\n",
    "        # 生成多组旋转角度\n",
    "        theta = torch.linspace(0,2*math.pi,batch).to(device)\n",
    "        # 生成多组转轴\n",
    "        omega_vec = torch.tensor(([0.0,0.0,1.0],[0.0,0.0,1.0],[0.0,0.0,1.0]), device=device)\n",
    "        # 得到雷达视线方向\n",
    "        Round_radar_los_all = torch.zeros((batch*RadarLos.shape[0],3),device=device)\n",
    "        Round_radar_los_real_all = torch.zeros((batch*RadarLos.shape[0],3),device=device)\n",
    "        omega_vec_all = torch.zeros((batch*omega_vec.shape[0],3),device=device)\n",
    "        for i,j in zip(range(RadarLos.shape[0]),range(omega_vec.shape[0])):\n",
    "                Round_radar_los = vec_rot(RadarLos[i],omega_vec[j,0],omega_vec[j,1],omega_vec[j,2],-theta)\n",
    "                Round_radar_los_all[batch*i:batch*(i+1)] = Round_radar_los\n",
    "                Round_radar_los_real_all[batch*i:batch*(i+1)] = vec_rot(RadarLos[i],omega_vec[j,0],omega_vec[j,1],omega_vec[j,2],theta)\n",
    "                omega_vec_all[batch*j:batch*(j+1)] = omega_vec[j].expand(batch,3)\n",
    "        # 转速\n",
    "        omega = torch.tensor([1.0],device=device).expand(Round_radar_los_all.shape[0])\n",
    "    if modelselect == 3:\n",
    "        # 小行星视线方向及转轴生成\n",
    "        # batchsize\n",
    "        batch = 30\n",
    "        # 生成多组初始雷达视线方向\n",
    "        RadarLos = torch.tensor(([-1.0,0.0,0.0],[-math.sqrt(3)/2,0.0,1/2],[-math.sqrt(3)/2,0.0,-1/2]), device=device)\n",
    "        # 生成多组旋转角度\n",
    "        theta = torch.linspace(0,2*math.pi,batch).to(device)\n",
    "        # 生成多组转轴\n",
    "        omega_vec = torch.tensor(([0.0,0.0,1.0],[1/2,0,math.sqrt(3)/2],[-1/2,0.0,math.sqrt(3)/2]), device=device)\n",
    "        # 得到雷达视线方向\n",
    "        Round_radar_los_all = torch.zeros((batch*RadarLos.shape[0],3),device=device)\n",
    "        Round_radar_los_real_all = torch.zeros((batch*RadarLos.shape[0],3),device=device)\n",
    "        omega_vec_all = torch.zeros((batch*omega_vec.shape[0],3),device=device)\n",
    "        for i,j in zip(range(RadarLos.shape[0]),range(omega_vec.shape[0])):\n",
    "                Round_radar_los = vec_rot(RadarLos[i],omega_vec[j,0],omega_vec[j,1],omega_vec[j,2],-theta)\n",
    "                Round_radar_los_all[batch*i:batch*(i+1)] = Round_radar_los\n",
    "                Round_radar_los_real_all[batch*i:batch*(i+1)] = vec_rot(RadarLos[i],omega_vec[j,0],omega_vec[j,1],omega_vec[j,2],theta)\n",
    "                omega_vec_all[batch*j:batch*(j+1)] = omega_vec[j].expand(batch,3)\n",
    "        # 转速\n",
    "        omega = torch.tensor([1.0],device=device).expand(Round_radar_los_all.shape[0])\n",
    "    if modelselect == 5:\n",
    "        # 真实小行星旋转轴轨迹\n",
    "        # batchsi\n",
    "        batch = 68\n",
    "        Round_radar_los_all = torch.zeros((batch,3),device=device)\n",
    "        Round_radar_los_real_all = torch.zeros((batch,3),device=device)\n",
    "        for i in range(batch):\n",
    "            # 雷达视线为螺旋线\n",
    "            # RadarLos = torch.tensor([math.sin(2*math.pi*i/batch/2),(i-batch/2)/batch/30+math.sin(0/180*math.pi),math.cos(2*math.pi*i/batch/2)], device=device)\n",
    "            RadarLos = torch.tensor([math.sin(2*math.pi*i/(batch+4)),math.tan(20*math.pi/180),math.cos(2*math.pi*i/(batch+4))], device=device)\n",
    "            RadarLos = RadarLos / (torch.linalg.norm(RadarLos) + 1e-6)\n",
    "            Round_radar_los_all[i] = RadarLos\n",
    "            # RadarLos_real = torch.tensor([-math.sin(2*math.pi*i/batch/2),(i-batch/2)/batch/30+math.sin(0/180*math.pi),math.cos(2*math.pi*i/batch/2)], device=device)\n",
    "            RadarLos_real = torch.tensor([-math.sin(2*math.pi*i/(batch+4)),math.tan(20*math.pi/180),math.cos(2*math.pi*i/(batch+4))], device=device)\n",
    "            RadarLos_real = RadarLos_real / (torch.linalg.norm(RadarLos_real) + 1e-6)\n",
    "            Round_radar_los_real_all[i] = RadarLos_real\n",
    "        omega_vec = torch.tensor(([0.0,1.0,0.0]), device=device)\n",
    "        omega_vec_all = omega_vec.expand(batch,3)\n",
    "        omega = torch.tensor([1.0],device=device).expand(Round_radar_los_all.shape[0])\n",
    "    if modelselect == 6:\n",
    "        # 生成多轨观测小行星的雷达视线方向，仿真得到小行星的nerf模型\n",
    "        # batchsize\n",
    "        batch = 30\n",
    "        # 共生成五轨小行星观测\n",
    "        Round_radar_los_all = torch.zeros((batch,3),device=device)\n",
    "        Round_radar_los_real_all = torch.zeros((batch,3),device=device)\n",
    "        for i in range(batch):\n",
    "            RadarLos = torch.tensor([math.sin(2*math.pi*i/batch),math.tan(1*math.pi/6),math.cos(2*math.pi*i/batch)], device=device)\n",
    "            # RadarLos = torch.tensor([0,(i-batch/2)/batch/30,-1], device=device)\n",
    "            RadarLos = RadarLos / (torch.linalg.norm(RadarLos) + 1e-6)\n",
    "            Round_radar_los_all[i] = RadarLos\n",
    "            RadarLos_real = torch.tensor([-math.sin(2*math.pi*i/batch),math.tan(1*math.pi/6),math.cos(2*math.pi*i/batch)], device=device)\n",
    "            RadarLos_real = RadarLos_real / (torch.linalg.norm(RadarLos_real) + 1e-6)\n",
    "            Round_radar_los_real_all[i] = RadarLos_real\n",
    "        omega_vec = torch.tensor(([0.0,1.0,0.0]), device=device)\n",
    "        omega_vec_all = omega_vec.expand(batch,3)\n",
    "        omega = torch.tensor([1.0],device=device).expand(Round_radar_los_all.shape[0])\n",
    "    # 可视化雷达视线方向\n",
    "    radar_los_numpy = Round_radar_los_all.detach().cpu().numpy()\n",
    "\n",
    "    fig = go.Figure(data=[go.Scatter3d(\n",
    "        x=radar_los_numpy[:,0], \n",
    "        y=radar_los_numpy[:,1], \n",
    "        z=radar_los_numpy[:,2], \n",
    "        mode='markers',\n",
    "        marker=dict(\n",
    "            size=2  # 设置点的大小\n",
    "        )\n",
    "    )])\n",
    "\n",
    "    # 可视化转轴方向为一个向量，并将其添加到雷达视线方向图中\n",
    "    omega_vec_numpy = omega_vec_all.detach().cpu().numpy()\n",
    "    fig.add_trace(go.Scatter3d(\n",
    "        x=[0, omega_vec_numpy[5,0]],\n",
    "        y=[0, omega_vec_numpy[5,1]],\n",
    "        z=[0, omega_vec_numpy[5,2]],\n",
    "        mode='lines+markers',\n",
    "        marker=dict(size=2),\n",
    "        line=dict(width=2)\n",
    "    ))\n",
    "\n",
    "    # 更新布局\n",
    "    fig.update_layout(scene=dict(\n",
    "        xaxis_title='X label',\n",
    "        yaxis_title='Y label',\n",
    "        zaxis_title='Z label'\n",
    "    ))\n",
    "\n",
    "    # 显示图形\n",
    "    fig.show()\n",
    "\n",
    "    # 将图形保存为html文件\n",
    "    fig.write_html(\"Radar_los.html\")\n",
    "\n",
    "    return Round_radar_los_all,Round_radar_los_real_all,omega_vec_all,omega\n",
    "\n",
    "Round_radar_los_all,Round_radar_los_real_all,omega_vec_all,omega = Radarview_generate()\n",
    "print(Round_radar_los_all.shape)\n",
    "print(Round_radar_los_real_all.shape)\n",
    "print(omega_vec_all.shape)\n",
    "print(omega_vec_all)"
   ]
  },
  {
   "cell_type": "code",
   "execution_count": null,
   "metadata": {},
   "outputs": [
    {
     "name": "stdout",
     "output_type": "stream",
     "text": [
      "['image0.png', 'image1.png', 'image2.png', 'image3.png', 'image4.png', 'image5.png', 'image6.png', 'image7.png', 'image8.png', 'image9.png', 'image10.png', 'image11.png', 'image12.png', 'image13.png', 'image14.png', 'image15.png', 'image16.png', 'image17.png', 'image18.png', 'image19.png', 'image20.png', 'image21.png', 'image22.png', 'image23.png', 'image24.png', 'image25.png', 'image26.png', 'image27.png', 'image28.png', 'image29.png']\n",
      "(30, 100, 100)\n",
      "创建文件夹\n",
      "torch.Size([30, 3])\n",
      "0.6352941176470588\n",
      "0.0\n",
      "0.984313725490196\n",
      "0.0\n",
      "0.9568627450980393\n",
      "0.0\n",
      "0.8431372549019608\n",
      "0.0\n",
      "0.8980392156862745\n",
      "0.0\n",
      "0.9529411764705882\n",
      "0.0\n",
      "0.9803921568627451\n",
      "0.0\n",
      "0.9490196078431372\n",
      "0.0\n",
      "0.9490196078431372\n",
      "0.0\n",
      "0.8509803921568627\n",
      "0.0\n",
      "0.7411764705882353\n",
      "0.0\n",
      "0.7254901960784313\n",
      "0.0\n",
      "0.6627450980392157\n",
      "0.0\n",
      "0.6705882352941176\n",
      "0.0\n",
      "0.6470588235294118\n",
      "0.0\n",
      "0.6274509803921569\n",
      "0.0\n",
      "0.6196078431372549\n",
      "0.0\n",
      "0.6431372549019608\n",
      "0.0\n",
      "1.0\n",
      "0.0\n",
      "0.6705882352941176\n",
      "0.0\n",
      "0.9803921568627451\n",
      "0.0\n",
      "0.7490196078431373\n",
      "0.0\n",
      "0.6666666666666666\n",
      "0.0\n",
      "0.6549019607843137\n",
      "0.0\n",
      "0.8784313725490196\n",
      "0.0\n",
      "0.6627450980392157\n",
      "0.0\n",
      "0.9411764705882353\n",
      "0.0\n",
      "0.6627450980392157\n",
      "0.0\n",
      "0.9058823529411765\n",
      "0.0\n",
      "0.8117647058823529\n",
      "0.0\n"
     ]
    },
    {
     "data": {
      "image/png": "[encoded data removed]",
      "text/plain": [
       "<Figure size 512x384 with 1 Axes>"
      ]
     },
     "metadata": {},
     "output_type": "display_data"
    },
    {
     "data": {
      "image/png": "[encoded data removed]",
      "text/plain": [
       "<Figure size 512x384 with 1 Axes>"
      ]
     },
     "metadata": {},
     "output_type": "display_data"
    },
    {
     "data": {
      "image/png": "[encoded data removed]",
      "text/plain": [
       "<Figure size 512x384 with 1 Axes>"
      ]
     },
     "metadata": {},
     "output_type": "display_data"
    },
    {
     "data": {
      "image/png": "[encoded data removed]",
      "text/plain": [
       "<Figure size 512x384 with 1 Axes>"
      ]
     },
     "metadata": {},
     "output_type": "display_data"
    },
    {
     "data": {
      "image/png": "[encoded data removed]",
      "text/plain": [
       "<Figure size 512x384 with 1 Axes>"
      ]
     },
     "metadata": {},
     "output_type": "display_data"
    }
   ],
   "source": [
    "# 读取一个文件夹中的所有Png文件\n",
    "# path = './ISAR_NERF/asteroid_image_nerf_new/2024on_convert/2024on_-20'\n",
    "path = './toutatis_sys/0du'\n",
    "\n",
    "def natural_sort_key(s):\n",
    "    # 分割字符串中的数字并将它们转换为整数\n",
    "    return [int(text) if text.isdigit() else text.lower() for text in re.split(r'(\\d+)', s)]\n",
    "\n",
    "def read_all_files(path):\n",
    "    # 读取文件夹中的所有文件\n",
    "    files = os.listdir(path)\n",
    "    # 读取文件夹中的所有Png文件\n",
    "    files = [file for file in files if file.endswith('.jpg') or file.endswith('.png')]\n",
    "    # 排序文件\n",
    "    files = sorted(files, key=natural_sort_key)\n",
    "    # 获得png文件的长和宽\n",
    "    for file in files:\n",
    "        img = Image.open(os.path.join(path,file))\n",
    "        length,width = img.size\n",
    "        break\n",
    "    return files,length,width\n",
    "\n",
    "files,length,width = read_all_files(path)\n",
    "print(files)\n",
    "\n",
    "# 创建一个np数组\n",
    "image_numpy = np.zeros((len(files),100,100))\n",
    "print(image_numpy.shape)\n",
    "\n",
    "# 读取所有的图片\n",
    "for i in range(len(files)):\n",
    "    img = Image.open(os.path.join(path,files[i]))\n",
    "    # 转换为灰度\n",
    "    img = img.convert('L')\n",
    "    # 将图片截取中心的100*100\n",
    "    img = img.crop((int((length-100)/2), int((width-100)/2), int((length+100)/2), int((width+100)/2)))\n",
    "    # 将图片逆时针旋转90度\n",
    "    img = img.rotate(90)\n",
    "    # 将图片转换为numpy数组\n",
    "    image_numpy[i] = np.array(img)\n",
    "    img.close()\n",
    "\n",
    "\n",
    "\n",
    "# 将image_numpy的第一维反向\n",
    "image_numpy = image_numpy\n",
    "# image_numpy = image_numpy[::-1]\n",
    "\n",
    "# 显示第一张图片\n",
    "plt.figure()\n",
    "plt.imshow(image_numpy[2],cmap='gray')\n",
    "plt.figure()\n",
    "plt.imshow(image_numpy[4],cmap='gray')\n",
    "plt.figure()\n",
    "plt.imshow(image_numpy[6],cmap='gray')\n",
    "plt.figure()\n",
    "plt.imshow(image_numpy[8],cmap='gray')\n",
    "plt.figure()\n",
    "plt.imshow(image_numpy[10],cmap='gray')\n",
    "\n",
    "\n",
    "\n",
    "image_max = image_numpy.max()\n",
    "image_min = image_numpy.min()\n",
    "\n",
    "# 存储生成的图片\n",
    "import cv2\n",
    "import numpy as np\n",
    "filename = './toutatis_sys/0du_30du'\n",
    "if not os.path.exists(filename):\n",
    "    print(\"创建文件夹\")\n",
    "    os.makedirs(filename)\n",
    "print(Round_radar_los_real_all.shape)\n",
    "for i in range(0,Round_radar_los_real_all.shape[0]):\n",
    "    image_i = image_numpy[i,:,:]\n",
    "    image_i = (image_i - image_min)/(image_max-image_min)\n",
    "    print(image_i.max())\n",
    "    print(image_i.min())\n",
    "    LOS_real = Round_radar_los_real_all[i].detach().cpu().numpy()\n",
    "    rotation_axis = omega_vec_all[i].detach().cpu().numpy()\n",
    "\n",
    "    np.savez(filename+'/image'+str(i)+\".npz\", image=image_i, LOS = LOS_real, rotation_axis = rotation_axis)\n",
    "    image_i = np.uint8(image_i*255)\n",
    "    cv2.imwrite(filename+'/image'+str(i)+\".png\",image_i)"
   ]
  },
  {
   "cell_type": "code",
   "execution_count": null,
   "metadata": {},
   "outputs": [],
   "source": []
  }
 ],
 "metadata": {
  "kernelspec": {
   "display_name": "3d_env",
   "language": "python",
   "name": "python3"
  },
  "language_info": {
   "codemirror_mode": {
    "name": "ipython",
    "version": 3
   },
   "file_extension": ".py",
   "mimetype": "text/x-python",
   "name": "python",
   "nbconvert_exporter": "python",
   "pygments_lexer": "ipython3",
   "version": "3.10.15"
  }
 },
 "nbformat": 4,
 "nbformat_minor": 2
}
